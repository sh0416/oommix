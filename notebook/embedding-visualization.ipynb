{
 "cells": [
  {
   "cell_type": "code",
   "execution_count": 1,
   "metadata": {},
   "outputs": [
    {
     "name": "stdout",
     "output_type": "stream",
     "text": [
      "env: CUDA_VISIBLE_DEVICES=3\n"
     ]
    }
   ],
   "source": [
    "%env CUDA_VISIBLE_DEVICES 3"
   ]
  },
  {
   "cell_type": "code",
   "execution_count": 2,
   "metadata": {
    "tags": []
   },
   "outputs": [
    {
     "name": "stderr",
     "output_type": "stream",
     "text": [
      "[nltk_data] Downloading package punkt to /home/sh0416/nltk_data...\n",
      "[nltk_data]   Package punkt is already up-to-date!\n"
     ]
    }
   ],
   "source": [
    "import os\n",
    "import json\n",
    "import pandas as pd\n",
    "import torch\n",
    "import torch.nn.functional as F\n",
    "from torch.utils.data import DataLoader\n",
    "from transformers import BertTokenizerFast\n",
    "from tqdm.notebook import tqdm\n",
    "\n",
    "from data import create_train_and_valid_dataset, create_test_dataset\n",
    "from data import CollateFn\n",
    "from model import create_model"
   ]
  },
  {
   "cell_type": "markdown",
   "metadata": {},
   "source": [
    "적절한 모델 찾기"
   ]
  },
  {
   "cell_type": "code",
   "execution_count": 3,
   "metadata": {},
   "outputs": [
    {
     "data": {
      "text/html": [
       "<div>\n",
       "<style scoped>\n",
       "    .dataframe tbody tr th:only-of-type {\n",
       "        vertical-align: middle;\n",
       "    }\n",
       "\n",
       "    .dataframe tbody tr th {\n",
       "        vertical-align: top;\n",
       "    }\n",
       "\n",
       "    .dataframe thead th {\n",
       "        text-align: right;\n",
       "    }\n",
       "</style>\n",
       "<table border=\"1\" class=\"dataframe\">\n",
       "  <thead>\n",
       "    <tr style=\"text-align: right;\">\n",
       "      <th></th>\n",
       "      <th>dataset</th>\n",
       "      <th>num_train_data</th>\n",
       "      <th>data_augment</th>\n",
       "      <th>augment</th>\n",
       "      <th>seed</th>\n",
       "      <th>exp_id</th>\n",
       "    </tr>\n",
       "  </thead>\n",
       "  <tbody>\n",
       "    <tr>\n",
       "      <th>339</th>\n",
       "      <td>ag_news</td>\n",
       "      <td>2500</td>\n",
       "      <td>eda</td>\n",
       "      <td>adamix</td>\n",
       "      <td>0</td>\n",
       "      <td>e73bbf23</td>\n",
       "    </tr>\n",
       "    <tr>\n",
       "      <th>248</th>\n",
       "      <td>ag_news</td>\n",
       "      <td>2500</td>\n",
       "      <td>eda</td>\n",
       "      <td>adamix</td>\n",
       "      <td>1</td>\n",
       "      <td>31ded273</td>\n",
       "    </tr>\n",
       "    <tr>\n",
       "      <th>126</th>\n",
       "      <td>ag_news</td>\n",
       "      <td>2500</td>\n",
       "      <td>eda</td>\n",
       "      <td>adamix</td>\n",
       "      <td>2</td>\n",
       "      <td>4c7f29a8</td>\n",
       "    </tr>\n",
       "    <tr>\n",
       "      <th>171</th>\n",
       "      <td>ag_news</td>\n",
       "      <td>2500</td>\n",
       "      <td>eda</td>\n",
       "      <td>adamix</td>\n",
       "      <td>3</td>\n",
       "      <td>65f8d793</td>\n",
       "    </tr>\n",
       "    <tr>\n",
       "      <th>306</th>\n",
       "      <td>ag_news</td>\n",
       "      <td>2500</td>\n",
       "      <td>eda</td>\n",
       "      <td>adamix</td>\n",
       "      <td>4</td>\n",
       "      <td>05ec1a42</td>\n",
       "    </tr>\n",
       "    <tr>\n",
       "      <th>...</th>\n",
       "      <td>...</td>\n",
       "      <td>...</td>\n",
       "      <td>...</td>\n",
       "      <td>...</td>\n",
       "      <td>...</td>\n",
       "      <td>...</td>\n",
       "    </tr>\n",
       "    <tr>\n",
       "      <th>142</th>\n",
       "      <td>ag_news</td>\n",
       "      <td>2500</td>\n",
       "      <td>NaN</td>\n",
       "      <td>adamix</td>\n",
       "      <td>0</td>\n",
       "      <td>3d747ad5</td>\n",
       "    </tr>\n",
       "    <tr>\n",
       "      <th>412</th>\n",
       "      <td>ag_news</td>\n",
       "      <td>2500</td>\n",
       "      <td>NaN</td>\n",
       "      <td>adamix</td>\n",
       "      <td>1</td>\n",
       "      <td>7bac0d8d</td>\n",
       "    </tr>\n",
       "    <tr>\n",
       "      <th>425</th>\n",
       "      <td>ag_news</td>\n",
       "      <td>2500</td>\n",
       "      <td>NaN</td>\n",
       "      <td>adamix</td>\n",
       "      <td>2</td>\n",
       "      <td>628b1385</td>\n",
       "    </tr>\n",
       "    <tr>\n",
       "      <th>284</th>\n",
       "      <td>ag_news</td>\n",
       "      <td>2500</td>\n",
       "      <td>NaN</td>\n",
       "      <td>adamix</td>\n",
       "      <td>3</td>\n",
       "      <td>86d41093</td>\n",
       "    </tr>\n",
       "    <tr>\n",
       "      <th>213</th>\n",
       "      <td>ag_news</td>\n",
       "      <td>2500</td>\n",
       "      <td>NaN</td>\n",
       "      <td>adamix</td>\n",
       "      <td>4</td>\n",
       "      <td>ea8b603e</td>\n",
       "    </tr>\n",
       "  </tbody>\n",
       "</table>\n",
       "<p>82 rows × 6 columns</p>\n",
       "</div>"
      ],
      "text/plain": [
       "     dataset  num_train_data data_augment augment  seed    exp_id\n",
       "339  ag_news            2500          eda  adamix     0  e73bbf23\n",
       "248  ag_news            2500          eda  adamix     1  31ded273\n",
       "126  ag_news            2500          eda  adamix     2  4c7f29a8\n",
       "171  ag_news            2500          eda  adamix     3  65f8d793\n",
       "306  ag_news            2500          eda  adamix     4  05ec1a42\n",
       "..       ...             ...          ...     ...   ...       ...\n",
       "142  ag_news            2500          NaN  adamix     0  3d747ad5\n",
       "412  ag_news            2500          NaN  adamix     1  7bac0d8d\n",
       "425  ag_news            2500          NaN  adamix     2  628b1385\n",
       "284  ag_news            2500          NaN  adamix     3  86d41093\n",
       "213  ag_news            2500          NaN  adamix     4  ea8b603e\n",
       "\n",
       "[82 rows x 6 columns]"
      ]
     },
     "execution_count": 3,
     "metadata": {},
     "output_type": "execute_result"
    }
   ],
   "source": [
    "metadatas = []\n",
    "for param_fname in os.listdir(\"param\"):\n",
    "    param_fpath = os.path.join(\"param\", param_fname)\n",
    "    with open(param_fpath) as f:\n",
    "        metadatas.append(json.load(f))\n",
    "\n",
    "metadata_df = pd.DataFrame(data=metadatas)\n",
    "\n",
    "target_records = metadata_df[(metadata_df[\"dataset\"] == \"ag_news\")\n",
    "                             & (metadata_df[\"augment\"] == \"adamix\")\n",
    "                             & (metadata_df[\"num_train_data\"] == 2500)]\n",
    "                             \n",
    "target_records = target_records[[\"dataset\", \"num_train_data\", \"data_augment\", \"augment\", \"seed\", \"exp_id\"]]\n",
    "target_records.sort_values([\"dataset\", \"num_train_data\", \"data_augment\", \"augment\", \"seed\"])"
   ]
  },
  {
   "cell_type": "code",
   "execution_count": 4,
   "metadata": {},
   "outputs": [],
   "source": [
    "max_length = 256"
   ]
  },
  {
   "cell_type": "code",
   "execution_count": 5,
   "metadata": {},
   "outputs": [],
   "source": [
    "dataset = \"ag_news\"\n",
    "data_dir = \"/data/sh0416/dataset/pdistmix/ag_news_csv\"\n",
    "tokenizer = BertTokenizerFast.from_pretrained(\"bert-base-uncased\")\n",
    "train_dataset, valid_dataset = create_train_and_valid_dataset(dataset=dataset,\n",
    "                                               dirpath=data_dir,\n",
    "                                               tokenizer=tokenizer,\n",
    "                                               num_train_data=2500)\n",
    "test_dataset = create_test_dataset(dataset=dataset,\n",
    "                                   dirpath=data_dir,\n",
    "                                   tokenizer=tokenizer)\n",
    "\n",
    "collate_fn = CollateFn(tokenizer, max_length)\n",
    "train_loader = DataLoader(train_dataset,\n",
    "                          batch_size=256,\n",
    "                          shuffle=True,\n",
    "                          collate_fn=collate_fn)\n",
    "test_loader = DataLoader(test_dataset,\n",
    "                         batch_size=256,\n",
    "                         shuffle=True,\n",
    "                         collate_fn=collate_fn)"
   ]
  },
  {
   "cell_type": "code",
   "execution_count": 6,
   "metadata": {},
   "outputs": [
    {
     "name": "stdout",
     "output_type": "stream",
     "text": [
      "complete\n"
     ]
    }
   ],
   "source": [
    "mixup_layer = 3\n",
    "augment = \"adamix\"\n",
    "device = torch.device(\"cuda\")\n",
    "intrusion_layer = 12\n",
    "drop_prob = 0.1\n",
    "model = create_model(augment=augment, \n",
    "                     mixup_layer=mixup_layer,\n",
    "                     intrusion_layer=intrusion_layer,\n",
    "                     n_class=test_dataset.n_class, \n",
    "                     n_layer=12, \n",
    "                     drop_prob=drop_prob)\n",
    "model.load_state_dict(torch.load(\"ckpt/model_3d747ad5.pth\"))\n",
    "model.to(device)\n",
    "print(\"complete\")"
   ]
  },
  {
   "cell_type": "code",
   "execution_count": 7,
   "metadata": {},
   "outputs": [],
   "source": [
    "class Collector:\n",
    "    def __init__(self):\n",
    "        self.data = []\n",
    "    \n",
    "    def __call__(self, m, i, o):\n",
    "        self.data.append(o.detach().cpu())"
   ]
  },
  {
   "cell_type": "code",
   "execution_count": 8,
   "metadata": {
    "scrolled": true
   },
   "outputs": [
    {
     "data": {
      "application/vnd.jupyter.widget-view+json": {
       "model_id": "92b411f0d1d440efab53fd3035ed9fe3",
       "version_major": 2,
       "version_minor": 0
      },
      "text/plain": [
       "HBox(children=(HTML(value=''), FloatProgress(value=0.0, max=10.0), HTML(value='')))"
      ]
     },
     "metadata": {},
     "output_type": "display_data"
    },
    {
     "name": "stderr",
     "output_type": "stream",
     "text": [
      "/home/sh0416/anaconda3/envs/python3.8/lib/python3.8/site-packages/torch/nn/modules/container.py:117: UserWarning: Implicit dimension choice for softmax has been deprecated. Change the call to include dim=X as an argument.\n",
      "  input = module(input)\n"
     ]
    },
    {
     "name": "stdout",
     "output_type": "stream",
     "text": [
      "\n"
     ]
    }
   ],
   "source": [
    "oommix_train_normal = Collector()\n",
    "oommix_train_mix = Collector()\n",
    "\n",
    "hook1 = model.sentence_h.register_forward_hook(oommix_train_normal)\n",
    "hook2 = model.mix_sentence_h.register_forward_hook(oommix_train_mix)\n",
    "\n",
    "train_labels, train_mixed_labels = [], []\n",
    "with torch.no_grad():\n",
    "    for batch in tqdm(train_loader):\n",
    "        input_ids = batch[\"inputs\"][\"input_ids\"].to(device)\n",
    "        attention_mask = batch[\"inputs\"][\"attention_mask\"].to(device)\n",
    "        mixup_indices = torch.randperm(input_ids.shape[0], device=device)\n",
    "        eps = torch.rand(input_ids.shape[0], device=device)\n",
    "        outs, mix_outs, gamma, intr_loss = model(input_ids=input_ids, attention_mask=attention_mask,\n",
    "                     mixup_indices=mixup_indices, eps=eps)\n",
    "        gamma = gamma.cpu()\n",
    "        #labels = batch[\"labels\"]\n",
    "        labels = torch.argmax(outs, 1)\n",
    "        l = torch.zeros(labels.shape[0], test_dataset.n_class)\n",
    "        l[range(labels.shape[0]), labels] = 1\n",
    "        train_labels.append(l)\n",
    "        #mix_l = gamma[:, None]*l + (1-gamma[:, None])*l[mixup_indices]\n",
    "        labels = torch.argmax(mix_outs, 1)\n",
    "        l = torch.zeros(labels.shape[0], test_dataset.n_class)\n",
    "        l[range(labels.shape[0]), labels] = 1\n",
    "        train_mixed_labels.append(l)"
   ]
  },
  {
   "cell_type": "code",
   "execution_count": 9,
   "metadata": {},
   "outputs": [],
   "source": [
    "import numpy as np\n",
    "oommix_train_normal_h = np.copy(torch.cat(oommix_train_normal.data, dim=0).numpy())\n",
    "oommix_train_mix_h = np.copy(torch.cat(oommix_train_mix.data, dim=0).numpy())"
   ]
  },
  {
   "cell_type": "code",
   "execution_count": 10,
   "metadata": {},
   "outputs": [],
   "source": [
    "hook1.remove()\n",
    "hook2.remove()"
   ]
  },
  {
   "cell_type": "code",
   "execution_count": 11,
   "metadata": {},
   "outputs": [],
   "source": [
    "oommix_test_normal = Collector()\n",
    "hook3 = model.sentence_h.register_forward_hook(oommix_test_normal)"
   ]
  },
  {
   "cell_type": "code",
   "execution_count": 12,
   "metadata": {},
   "outputs": [
    {
     "data": {
      "application/vnd.jupyter.widget-view+json": {
       "model_id": "8196b4570a454f2d85d6d63336d375f3",
       "version_major": 2,
       "version_minor": 0
      },
      "text/plain": [
       "HBox(children=(HTML(value=''), FloatProgress(value=1.0, bar_style='info', layout=Layout(width='20px'), max=1.0…"
      ]
     },
     "metadata": {},
     "output_type": "display_data"
    },
    {
     "name": "stdout",
     "output_type": "stream",
     "text": [
      "\n"
     ]
    }
   ],
   "source": [
    "from tqdm.notebook import tqdm\n",
    "\n",
    "test_labels = []\n",
    "with torch.no_grad():\n",
    "    model.eval()\n",
    "    for idx, batch in tqdm(enumerate(test_loader)):\n",
    "        input_ids = batch[\"inputs\"][\"input_ids\"].to(device)\n",
    "        attention_mask = batch[\"inputs\"][\"attention_mask\"].to(device)\n",
    "        outs = model(input_ids=input_ids,\n",
    "                     attention_mask=attention_mask)\n",
    "        labels = torch.argmax(outs, 1)\n",
    "        l = torch.zeros(labels.shape[0], test_dataset.n_class)\n",
    "        l[range(labels.shape[0]), labels] = 1\n",
    "        test_labels.append(l)\n",
    "        if idx == 8:\n",
    "            break"
   ]
  },
  {
   "cell_type": "code",
   "execution_count": 13,
   "metadata": {},
   "outputs": [],
   "source": [
    "oommix_test_normal_h = np.copy(torch.cat(oommix_test_normal.data, dim=0).numpy())"
   ]
  },
  {
   "cell_type": "code",
   "execution_count": 14,
   "metadata": {},
   "outputs": [],
   "source": [
    "train_l = torch.cat(train_labels, dim=0)\n",
    "train_mix_l = torch.cat(train_mixed_labels, dim=0)\n",
    "test_l = torch.cat(test_labels, dim=0)"
   ]
  },
  {
   "cell_type": "code",
   "execution_count": 15,
   "metadata": {},
   "outputs": [],
   "source": [
    "import numpy as np\n",
    "idx = np.random.randint(oommix_train_normal_h.shape[0], size=1000)\n",
    "idx2 = np.random.randint(oommix_train_mix_h.shape[0], size=1000)\n",
    "idx3 = np.random.randint(oommix_test_normal_h.shape[0], size=1000)\n",
    "\n",
    "sample_oommix_train_normal_h = oommix_train_normal_h[idx]\n",
    "sample_oommix_train_mix_h = oommix_train_mix_h[idx2]\n",
    "sample_oommix_test_normal_h = oommix_test_normal_h[idx3]\n",
    "sample_train_l, sample_train_mix_l, sample_test_l = train_l[idx], train_mix_l[idx2], test_l[idx3]\n",
    "#sample_h, sample_h2, sample_h3 = h, h2, h3"
   ]
  },
  {
   "cell_type": "code",
   "execution_count": 16,
   "metadata": {},
   "outputs": [],
   "source": [
    "from sklearn.manifold import TSNE, Isomap\n",
    "from sklearn.decomposition import PCA\n",
    "\n",
    "X = np.concatenate((sample_oommix_train_normal_h,\n",
    "                    sample_oommix_train_mix_h,\n",
    "                    sample_oommix_test_normal_h), axis=0)\n",
    "#X = np.concatenate((sample_oommix_train_mix_h,\n",
    "#                    sample_oommix_test_normal_h), axis=0)\n",
    "\n",
    "isomap = Isomap(n_components=3, n_neighbors=25)\n",
    "result = isomap.fit_transform(X)\n",
    "#tsne = TSNE(n_components=3, perplexity=30)\n",
    "#result = tsne.fit_transform(X)\n",
    "#pca = PCA(n_components=2)\n",
    "#result = pca.fit_transform(X)"
   ]
  },
  {
   "cell_type": "code",
   "execution_count": 17,
   "metadata": {},
   "outputs": [
    {
     "name": "stdout",
     "output_type": "stream",
     "text": [
      "              x          y          z  \\\n",
      "0    -16.396971   0.660955 -10.333487   \n",
      "1     -5.848743 -26.463878  14.603323   \n",
      "2    -16.366193  27.146735   8.035279   \n",
      "3     -8.399645 -18.106111  11.360565   \n",
      "4     -4.676024  -3.729051 -18.273816   \n",
      "...         ...        ...        ...   \n",
      "2995 -10.048096  -2.563970 -20.762373   \n",
      "2996  -3.545904   4.349008 -24.042143   \n",
      "2997  -8.695446  -0.808280  -8.979594   \n",
      "2998 -21.979980  24.767247  13.645693   \n",
      "2999 -13.729794  -4.054457  -8.320746   \n",
      "\n",
      "                                                  label    type  \n",
      "0     [0.17254901960784313, 0.6274509803921569, 0.17...  normal  \n",
      "1     [0.12156862745098039, 0.4666666666666667, 0.70...  normal  \n",
      "2       [1.0, 0.4980392156862745, 0.054901960784313725]  normal  \n",
      "3     [0.12156862745098039, 0.4666666666666667, 0.70...  normal  \n",
      "4     [0.8392156862745098, 0.15294117647058825, 0.15...  normal  \n",
      "...                                                 ...     ...  \n",
      "2995  [0.8392156862745098, 0.15294117647058825, 0.15...    test  \n",
      "2996  [0.8392156862745098, 0.15294117647058825, 0.15...    test  \n",
      "2997  [0.17254901960784313, 0.6274509803921569, 0.17...    test  \n",
      "2998    [1.0, 0.4980392156862745, 0.054901960784313725]    test  \n",
      "2999  [0.17254901960784313, 0.6274509803921569, 0.17...    test  \n",
      "\n",
      "[3000 rows x 5 columns]\n"
     ]
    },
    {
     "data": {
      "image/png": "[encoded data removed]",
      "text/plain": [
       "<Figure size 576x576 with 1 Axes>"
      ]
     },
     "metadata": {
      "needs_background": "light"
     },
     "output_type": "display_data"
    }
   ],
   "source": [
    "import seaborn as sns\n",
    "import matplotlib.pyplot as plt\n",
    "from mpl_toolkits.mplot3d import Axes3D\n",
    "\n",
    "rgb_list = list(sns.color_palette(\"tab10\"))\n",
    "\n",
    "def get_color_list(label_list):\n",
    "    clist = []\n",
    "    for x in label_list:\n",
    "        c = [0, 0, 0]\n",
    "        for i, y in enumerate(x):\n",
    "            c[0] += y * rgb_list[i][0]\n",
    "            c[1] += y * rgb_list[i][1]\n",
    "            c[2] += y * rgb_list[i][2]\n",
    "        clist.append(c)\n",
    "    return clist\n",
    "\n",
    "clist = []\n",
    "clist.extend(get_color_list(sample_train_l.tolist()))\n",
    "clist.extend(get_color_list(sample_train_mix_l.tolist()))\n",
    "clist.extend(get_color_list(sample_test_l.tolist()))\n",
    "\n",
    "df1 = pd.DataFrame(data=result, columns=[\"x\", \"y\", \"z\"])\n",
    "df1[\"label\"] = clist\n",
    "df1[\"type\"] = [\"normal\" for i in sample_train_l.tolist()] + \\\n",
    "              [\"generated\" for _ in range(sample_oommix_train_mix_h.shape[0])] + \\\n",
    "              [\"test\" for i in sample_test_l.tolist()]\n",
    "#df1[\"label\"] = [\"oommix\" for _ in range(sample_oommix_train_mix_h.shape[0])] + \\\n",
    "#               [\"class %d\" % i for i in sample_test_l.tolist()]\n",
    "#df1[\"type\"] = [\"train\" for _ in range(sample_oommix_train_mix_h.shape[0])] + \\\n",
    "#              [\"test\" for i in sample_test_l.tolist()]\n",
    "print(df1)\n",
    "\n",
    "fig = plt.figure(figsize=(8, 8))\n",
    "ax = fig.add_subplot(111, projection='3d')\n",
    "#sns.set_theme(context=\"paper\", style=\"ticks\", font_scale=1.5)\n",
    "#fig, ax = plt.subplots(figsize=(8, 8), ncols=1)\n",
    "#g = sns.scatterplot(x=\"x\", y=\"y\", style=\"type\", style_order=[\"normal\", \"generated\", \"test\"],\n",
    "#data=df1, s=20, ax=ax, c=df1[\"label\"])\n",
    "\n",
    "a=ax.scatter(df1[df1[\"type\"]==\"normal\"][\"x\"],\n",
    "           df1[df1[\"type\"]==\"normal\"][\"y\"],\n",
    "           df1[df1[\"type\"]==\"normal\"][\"z\"],\n",
    "           c=df1[df1[\"type\"]==\"normal\"][\"label\"],\n",
    "           marker='o')\n",
    "\n",
    "b=ax.scatter(df1[df1[\"type\"]==\"generated\"][\"x\"],\n",
    "           df1[df1[\"type\"]==\"generated\"][\"y\"],\n",
    "           df1[df1[\"type\"]==\"generated\"][\"z\"],\n",
    "           c=df1[df1[\"type\"]==\"generated\"][\"label\"],\n",
    "           marker='x')\n",
    "\n",
    "\"\"\"\n",
    "c=ax.scatter(df1[df1[\"type\"]==\"test\"][\"x\"],\n",
    "           df1[df1[\"type\"]==\"test\"][\"y\"],\n",
    "           df1[df1[\"type\"]==\"test\"][\"z\"],\n",
    "           c=df1[df1[\"type\"]==\"test\"][\"label\"],\n",
    "           marker='*')\n",
    "\"\"\"\n",
    "\n",
    "ax.legend((a, b), (\"normal\", \"generated\"), markerscale=3)\n",
    "ax.get_legend().legendHandles[0].set_color(\"black\")\n",
    "ax.get_legend().legendHandles[1].set_color(\"black\")\n",
    "    # You can also use lh.set_sizes([50])\n",
    "#sns.scatterplot(x=0, y=1, style=\"type\", style_order=[\"test\", \"train\"],\n",
    "#                data=df1[df1[\"label\"]!=\"oommix\"], s=100, ax=axes[1])\n",
    "#sns.scatterplot(x=0, y=1, hue=\"label\", style=\"type\", style_order=[\"test\", \"train\"], data=df1, s=50)\n",
    "\"\"\"\n",
    "sns.scatterplot(x=result[:500, 0], y=result[:500, 1], hue=y[:500],\n",
    "                hue_order=[\"train class 0\", \"train class 1\", \"train class 2\", \"train class 3\"], ax=ax, s=20)\n",
    "sns.scatterplot(x=result[500:1000, 0], y=result[500:1000, 1], color='.2', ax=ax, s=20)\n",
    "sns.scatterplot(x=result[1000:, 0], y=result[1000:, 1], hue=y[1000:],\n",
    "                hue_order=[\"test class 0\", \"test class 1\", \"test class 2\", \"test class 3\"], markers=True, ax=ax, s=40)\n",
    "\"\"\"\n",
    "plt.tight_layout()\n",
    "plt.savefig(os.path.join(\"res\", \"exp5.png\"))\n"
   ]
  },
  {
   "cell_type": "code",
   "execution_count": null,
   "metadata": {},
   "outputs": [],
   "source": [
    "oommix_train_normal_h.shape"
   ]
  },
  {
   "cell_type": "code",
   "execution_count": null,
   "metadata": {},
   "outputs": [],
   "source": [
    "import numpy as np\n",
    "with torch.no_grad():\n",
    "    model2.to(device)\n",
    "    model2.eval()\n",
    "    for batch in tqdm(test_loader):\n",
    "        input_ids = batch[\"inputs\"][\"input_ids\"].to(device)\n",
    "        attention_mask = batch[\"inputs\"][\"attention_mask\"].to(device)\n",
    "        mixup_indices = torch.randperm(input_ids.shape[0], device=device)\n",
    "        lambda_ = np.random.beta(0.1, 0.1)\n",
    "        lambda_ = torch.tensor(np.where(lambda_>=0.5, lambda_, 1-lambda_), device=device)\n",
    "        outs = model2(input_ids=input_ids,\n",
    "                     attention_mask=attention_mask,\n",
    "                     mixup_indices=mixup_indices,\n",
    "                     lambda_=lambda_)"
   ]
  },
  {
   "cell_type": "code",
   "execution_count": null,
   "metadata": {},
   "outputs": [],
   "source": [
    "h = torch.cat(normal_collector.data, dim=0)\n",
    "h2 = torch.cat(oommix_collector.data, dim=0)\n",
    "h3 = torch.cat(mix_collector.data, dim=0)"
   ]
  },
  {
   "cell_type": "code",
   "execution_count": null,
   "metadata": {},
   "outputs": [],
   "source": [
    "h = h.numpy()\n",
    "h2 = h2.numpy()\n",
    "h3 = h3.numpy()"
   ]
  },
  {
   "cell_type": "code",
   "execution_count": null,
   "metadata": {},
   "outputs": [],
   "source": [
    "l = torch.cat(labels, dim=0)"
   ]
  },
  {
   "cell_type": "code",
   "execution_count": null,
   "metadata": {},
   "outputs": [],
   "source": [
    "import numpy as np\n",
    "idx = np.random.randint(h.shape[0], size=500)\n",
    "\n",
    "sample_h, sample_h2, sample_h3 = h[idx], h2[idx], h3[idx]\n",
    "sample_l = l[idx]\n",
    "#sample_h, sample_h2, sample_h3 = h, h2, h3"
   ]
  },
  {
   "cell_type": "code",
   "execution_count": null,
   "metadata": {},
   "outputs": [],
   "source": [
    "import scipy as scp\n",
    "dist = scp.spatial.distance.pdist(np.concatenate((sample_h, sample_h2), axis=0), metric=\"euclidean\")"
   ]
  },
  {
   "cell_type": "code",
   "execution_count": null,
   "metadata": {},
   "outputs": [],
   "source": [
    "square = scp.spatial.distance.squareform(dist)"
   ]
  },
  {
   "cell_type": "code",
   "execution_count": null,
   "metadata": {},
   "outputs": [],
   "source": [
    "between = square[:500, 500:].flatten()\n",
    "within = square[:500, :500].flatten()"
   ]
  },
  {
   "cell_type": "code",
   "execution_count": null,
   "metadata": {},
   "outputs": [],
   "source": [
    "import pandas as pd\n",
    "\n",
    "between_df = pd.DataFrame(data=between)\n",
    "between_df[\"type\"] = \"in-out\"\n",
    "within_df = pd.DataFrame(data=within)\n",
    "within_df[\"type\"] = \"in-in\""
   ]
  },
  {
   "cell_type": "code",
   "execution_count": null,
   "metadata": {},
   "outputs": [],
   "source": [
    "df = pd.concat((between_df, within_df))"
   ]
  },
  {
   "cell_type": "code",
   "execution_count": null,
   "metadata": {},
   "outputs": [],
   "source": [
    "import seaborn as sns\n",
    "sns.displot(data=df, x=0, hue=\"type\")"
   ]
  },
  {
   "cell_type": "code",
   "execution_count": null,
   "metadata": {},
   "outputs": [],
   "source": [
    "dist.shape"
   ]
  },
  {
   "cell_type": "code",
   "execution_count": null,
   "metadata": {},
   "outputs": [],
   "source": [
    "import matplotlib.pyplot as plt\n",
    "import seaborn as sns\n",
    "fig, ax = plt.subplots(figsize=(15,15))\n",
    "sns.heatmap(square, cmap=sns.color_palette(\"ch:s=.25,rot=-.25\", as_cmap=True), ax=ax)"
   ]
  },
  {
   "cell_type": "code",
   "execution_count": null,
   "metadata": {},
   "outputs": [],
   "source": [
    "h.shape, h2.shape, h3.shape"
   ]
  },
  {
   "cell_type": "code",
   "execution_count": null,
   "metadata": {},
   "outputs": [],
   "source": [
    "import numpy as np\n",
    "idx = np.random.randint(h.shape[0], size=500)\n",
    "idx2 = np.random.randint(h.shape[0], size=1500)\n",
    "idx3 = np.random.randint(h.shape[0], size=100)\n",
    "sample_h, sample_h2, sample_h3 = h[idx], h2[idx2], h3[idx3]\n",
    "sample_l = l[idx]\n",
    "#sample_h, sample_h2, sample_h3 = h, h2, h3"
   ]
  },
  {
   "cell_type": "code",
   "execution_count": null,
   "metadata": {},
   "outputs": [],
   "source": [
    "X = np.concatenate((sample_h, sample_h2, sample_h3), axis=0)\n",
    "\n",
    "from sklearn.manifold import TSNE, Isomap\n",
    "from sklearn.manifold import LocallyLinearEmbedding\n",
    "from sklearn.decomposition import PCA\n",
    "\n",
    "tsne = TSNE(perplexity=20)\n",
    "result = tsne.fit_transform(X)\n",
    "#isomap = Isomap(n_components=2)\n",
    "#result = isomap.fit_transform(X)\n",
    "#pca = PCA(n_components=2)\n",
    "#result = pca.fit_transform(X)\n",
    "#lle = LocallyLinearEmbedding(n_components=2, n_neighbors=50)\n",
    "#result = lle.fit_transform(X)"
   ]
  },
  {
   "cell_type": "code",
   "execution_count": null,
   "metadata": {},
   "outputs": [],
   "source": [
    "import seaborn as sns\n",
    "import matplotlib.pyplot as plt\n",
    "y = [\"class %d\" % i for i in sample_l.tolist()] + \\\n",
    "    [\"oommix\" for _ in range(sample_h2.shape[0])] + \\\n",
    "    [\"tmix\" for _ in range(sample_h3.shape[0])]\n",
    "sns.set_theme(context=\"paper\", style=\"ticks\", font_scale=1.5)\n",
    "fig, axes = plt.subplots(figsize=(16, 8), ncols=2)\n",
    "sns.scatterplot(x=result[:500, 0], y=result[:500, 1], hue=y[:500],\n",
    "                hue_order=[\"class 0\", \"class 1\", \"class 2\", \"class 3\"], ax=axes[0], s=20)\n",
    "sns.scatterplot(x=result[2000:, 0], y=result[2000:, 1], color='.2', ax=axes[0], s=20)\n",
    "sns.scatterplot(x=result[:500, 0], y=result[:500, 1], hue=y[:500],\n",
    "                hue_order=[\"class 0\", \"class 1\", \"class 2\", \"class 3\"], ax=axes[1], s=20)\n",
    "sns.scatterplot(x=result[500:2000, 0], y=result[500:2000, 1], color='.2', ax=axes[1], s=20)\n",
    "plt.savefig(\"exp5.png\")"
   ]
  },
  {
   "cell_type": "code",
   "execution_count": null,
   "metadata": {},
   "outputs": [],
   "source": [
    "import seaborn as sns\n",
    "import matplotlib.pyplot as plt\n",
    "\n",
    "sns.set_theme(context=\"paper\", style=\"ticks\", font_scale=1.5)\n",
    "fig, ax = plt.subplots(figsize=(10, 10))\n",
    "sns.scatterplot(x=result[:, 0], y=result[:, 1], hue=y, ax=ax, s=5)"
   ]
  },
  {
   "cell_type": "code",
   "execution_count": null,
   "metadata": {},
   "outputs": [],
   "source": [
    "X = np.concatenate((sample_h, sample_h2), axis=0)\n",
    "y = [\"normal\" for _ in range(sample_h.shape[0])] + \\\n",
    "    [\"oommix\" for _ in range(sample_h2.shape[0])] \n",
    "\n",
    "from sklearn.manifold import TSNE\n",
    "\n",
    "tsne = TSNE(perplexity=5)\n",
    "result = tsne.fit_transform(X)"
   ]
  },
  {
   "cell_type": "code",
   "execution_count": null,
   "metadata": {},
   "outputs": [],
   "source": [
    "import seaborn as sns\n",
    "\n",
    "sns.set_theme(context=\"paper\", style=\"ticks\", font_scale=1.5)\n",
    "sns.scatterplot(x=result[:, 0], y=result[:, 1], hue=y)"
   ]
  },
  {
   "cell_type": "code",
   "execution_count": null,
   "metadata": {},
   "outputs": [],
   "source": [
    "X = np.concatenate((sample_h, sample_h3), axis=0)\n",
    "y = [\"normal\" for _ in range(sample_h.shape[0])] + \\\n",
    "    [\"mix coeff: 0.5\" for _ in range(sample_h3.shape[0])]\n",
    "from sklearn.manifold import TSNE\n",
    "\n",
    "tsne = TSNE(perplexity=5)\n",
    "result = tsne.fit_transform(X)"
   ]
  },
  {
   "cell_type": "code",
   "execution_count": null,
   "metadata": {},
   "outputs": [],
   "source": [
    "import seaborn as sns\n",
    "\n",
    "sns.set_theme(context=\"paper\", style=\"ticks\", font_scale=1.5)\n",
    "sns.scatterplot(x=result[:, 0], y=result[:, 1], hue=y)"
   ]
  },
  {
   "cell_type": "code",
   "execution_count": null,
   "metadata": {},
   "outputs": [],
   "source": [
    "with torch.no_grad():\n",
    "    gammas = []\n",
    "    intr_loss_mean, c = 0, 0\n",
    "    model.eval()\n",
    "    for batch in test_loader:\n",
    "        input_ids = batch[\"inputs\"][\"input_ids\"].to(device)\n",
    "        attention_mask = batch[\"inputs\"][\"attention_mask\"].to(device)\n",
    "        mixup_indices = torch.randperm(input_ids.shape[0], device=device)\n",
    "        eps = torch.rand(input_ids.shape[0], device=device)\n",
    "        outs, mix_outs, gamma, intr_loss = model(input_ids=input_ids,\n",
    "                                             attention_mask=attention_mask,\n",
    "                                             mixup_indices=mixup_indices,\n",
    "                                             eps=eps)\n",
    "        gammas.append(gamma)\n",
    "        intr_loss_mean += intr_loss.item()\n",
    "        c += 1\n",
    "    gammas = torch.cat(gammas)\n",
    "    intr_loss_mean /= c"
   ]
  },
  {
   "cell_type": "code",
   "execution_count": null,
   "metadata": {},
   "outputs": [],
   "source": [
    "intr_loss_mean"
   ]
  },
  {
   "cell_type": "code",
   "execution_count": null,
   "metadata": {},
   "outputs": [],
   "source": [
    "intr_loss_mean"
   ]
  },
  {
   "cell_type": "code",
   "execution_count": null,
   "metadata": {},
   "outputs": [],
   "source": [
    "o = torch.cat(olist, dim=0)"
   ]
  },
  {
   "cell_type": "code",
   "execution_count": null,
   "metadata": {},
   "outputs": [],
   "source": [
    "o"
   ]
  },
  {
   "cell_type": "code",
   "execution_count": null,
   "metadata": {},
   "outputs": [],
   "source": [
    "o.shape"
   ]
  },
  {
   "cell_type": "code",
   "execution_count": null,
   "metadata": {},
   "outputs": [],
   "source": [
    "ag_news_gammas"
   ]
  },
  {
   "cell_type": "code",
   "execution_count": null,
   "metadata": {},
   "outputs": [],
   "source": [
    "import matplotlib.pyplot as plt\n",
    "import seaborn as sns\n",
    "\n",
    "sns.set_theme(context=\"paper\", style=\"ticks\", font_scale=1.5)\n",
    "sns.distplot(o[:, 0].cpu().numpy(), hist=False)"
   ]
  },
  {
   "cell_type": "code",
   "execution_count": null,
   "metadata": {},
   "outputs": [],
   "source": [
    "ax = sns.distplot(gammas.cpu().numpy(), hist=False)\n",
    "ax.set(xlabel=\"mixing coefficient\",\n",
    "       xlim=(0, 1))\n",
    "plt.savefig(\"exp3_ag_news_success.png\")"
   ]
  },
  {
   "cell_type": "code",
   "execution_count": null,
   "metadata": {},
   "outputs": [],
   "source": [
    "gammas.shape"
   ]
  },
  {
   "cell_type": "code",
   "execution_count": null,
   "metadata": {},
   "outputs": [],
   "source": [
    "intr_loss"
   ]
  },
  {
   "cell_type": "code",
   "execution_count": null,
   "metadata": {},
   "outputs": [],
   "source": [
    "\n",
    "\n",
    "\n",
    "    if torch.cuda.is_available():\n",
    "        torch.cuda.set_device(args.gpu)\n",
    "    device = torch.device(\"cuda\" if torch.cuda.is_available() else \"cpu\")\n",
    "    print(torch.cuda.current_device())\n",
    "    \n",
    "    model.to(device)\n",
    "    \n",
    "    test_acc = evaluate(model, test_loader, device)\n",
    "    for k, v in vars(args).items():\n",
    "        logging.info(\"Parameter %s = %s\" % (k, str(v)))\n",
    "    logging.info(\"Test accuracy: %.4f\" % test_acc)\n",
    "\n",
    "    os.makedirs(\"param\", exist_ok=True)\n",
    "    with open(os.path.join(\"param\", args.exp_id+\".json\"), 'w') as f:\n",
    "        json.dump(vars(args), f, indent=2)"
   ]
  },
  {
   "cell_type": "code",
   "execution_count": null,
   "metadata": {},
   "outputs": [],
   "source": [
    "model2 = create_model(augment=\"tmix\", \n",
    "                     mixup_layer=mixup_layer,\n",
    "                     intrusion_layer=intrusion_layer,\n",
    "                     n_class=test_dataset.n_class, \n",
    "                     n_layer=12, \n",
    "                     drop_prob=drop_prob)\n",
    "model2.load_state_dict(torch.load(\"ckpt/model_f4f149ec.pth\"))"
   ]
  }
 ],
 "metadata": {
  "kernelspec": {
   "display_name": "Python 3",
   "language": "python",
   "name": "python3"
  },
  "language_info": {
   "codemirror_mode": {
    "name": "ipython",
    "version": 3
   },
   "file_extension": ".py",
   "mimetype": "text/x-python",
   "name": "python",
   "nbconvert_exporter": "python",
   "pygments_lexer": "ipython3",
   "version": "3.8.5"
  }
 },
 "nbformat": 4,
 "nbformat_minor": 4
}
